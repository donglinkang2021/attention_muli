{
 "cells": [
  {
   "cell_type": "markdown",
   "metadata": {},
   "source": [
    "# Multi-Head Attention\n",
    "\n",
    "![multi-head](image/multi-head-attention.svg)\n"
   ]
  },
  {
   "cell_type": "code",
   "execution_count": 1,
   "metadata": {},
   "outputs": [],
   "source": [
    "import math\n",
    "import torch\n",
    "from torch import nn\n",
    "from d2l import torch as d2l"
   ]
  },
  {
   "cell_type": "markdown",
   "metadata": {},
   "source": [
    "## Model\n",
    "\n",
    "Given\n",
    "- a query $\\mathbf q \\in \\mathbb R^{d_q}$,\n",
    "- a key $\\mathbf k \\in \\mathbb R^{d_k}$,\n",
    "- a value $\\mathbf v \\in \\mathbb R^{d_v}$,\n",
    "\n",
    "each attention head $\\mathbf{h}_i\\;(i = 1, \\ldots, h)$ is computed as\n",
    "\n",
    "$$\n",
    "\\mathbf{h}_i = f(\\mathbf W_i^{(q)}\\mathbf q, \\mathbf W_i^{(k)}\\mathbf k,\\mathbf W_i^{(v)}\\mathbf v) \\in \\mathbb R^{p_v},\n",
    "$$\n",
    "\n",
    "where\n",
    "- $\\mathbf W_i^{(q)} \\in \\mathbb R^{p_q \\times d_q}$,\n",
    "- $\\mathbf W_i^{(k)} \\in \\mathbb R^{p_k \\times d_k}$,\n",
    "- $\\mathbf W_i^{(v)} \\in \\mathbb R^{p_v \\times d_v}$,\n",
    "- $f$ is attention pooling.\n",
    "\n",
    "the concatenation of $h$ attention heads is\n",
    "\n",
    "$$\n",
    "\\begin{split}\\mathbf W_o \\begin{bmatrix}\\mathbf h_1\\\\\\vdots\\\\\\mathbf h_h\\end{bmatrix} \\in \\mathbb{R}^{p_o}.\\end{split}\n",
    "$$\n",
    "\n",
    "where\n",
    "- $\\mathbf W_o \\in \\mathbb R^{p_o \\times (p_v h)}$."
   ]
  },
  {
   "cell_type": "markdown",
   "metadata": {},
   "source": [
    "## Implementation\n",
    "\n",
    "- we set $p_q = p_k = p_v = p_o / h$\n",
    "- we choose $f$ as scaled dot-product attention"
   ]
  },
  {
   "cell_type": "code",
   "execution_count": 2,
   "metadata": {},
   "outputs": [],
   "source": [
    "#@save\n",
    "class MultiHeadAttention(nn.Module):\n",
    "    \"\"\"多头注意力\"\"\"\n",
    "    def __init__(self, key_size, query_size, value_size, num_hiddens,\n",
    "                 num_heads, dropout, bias=False, **kwargs):\n",
    "        super(MultiHeadAttention, self).__init__(**kwargs)\n",
    "        self.num_heads = num_heads\n",
    "        self.attention = d2l.DotProductAttention(dropout)\n",
    "        self.W_q = nn.Linear(query_size, num_hiddens, bias=bias)\n",
    "        self.W_k = nn.Linear(key_size, num_hiddens, bias=bias)\n",
    "        self.W_v = nn.Linear(value_size, num_hiddens, bias=bias)\n",
    "        self.W_o = nn.Linear(num_hiddens, num_hiddens, bias=bias)\n",
    "\n",
    "    def forward(self, queries, keys, values, valid_lens):\n",
    "        # queries，keys，values的形状:\n",
    "        # (batch_size，查询或者“键－值”对的个数，num_hiddens)\n",
    "        # valid_lens　的形状:\n",
    "        # (batch_size，)或(batch_size，查询的个数)\n",
    "        # 经过变换后，输出的queries，keys，values　的形状:\n",
    "        # (batch_size*num_heads，查询或者“键－值”对的个数，\n",
    "        # num_hiddens/num_heads)\n",
    "        queries = self.transpose_qkv(self.W_q(queries), self.num_heads)\n",
    "        keys = self.transpose_qkv(self.W_k(keys), self.num_heads)\n",
    "        values = self.transpose_qkv(self.W_v(values), self.num_heads)\n",
    "\n",
    "        if valid_lens is not None:\n",
    "            # 在轴0，将第一项（标量或者矢量）复制num_heads次，\n",
    "            # 然后如此复制第二项，然后诸如此类。\n",
    "            valid_lens = torch.repeat_interleave(\n",
    "                valid_lens, repeats=self.num_heads, dim=0)\n",
    "\n",
    "        # output的形状:(batch_size*num_heads，查询的个数，\n",
    "        # num_hiddens/num_heads)\n",
    "        output = self.attention(queries, keys, values, valid_lens)\n",
    "\n",
    "        # output_concat的形状:(batch_size，查询的个数，num_hiddens)\n",
    "        output_concat = self.transpose_output(output, self.num_heads)\n",
    "        return self.W_o(output_concat)\n",
    "    \n",
    "    #@save\n",
    "    def transpose_qkv(self, X, num_heads):\n",
    "        \"\"\"\n",
    "        为了多注意力头的并行计算而变换形状\n",
    "        \n",
    "        Parameters\n",
    "        ----------\n",
    "        @param X : shape (batch_size, seq_len, num_hiddens)\n",
    "            查询、键或值的张量。\n",
    "        @param num_heads : int\n",
    "            注意力头的数量。\n",
    "        @return X : shape (batch_size * num_heads, seq_len, num_hiddens / num_heads)\n",
    "        \"\"\"\n",
    "        # 输入X的形状:(batch_size，查询或者“键－值”对的个数，num_hiddens)\n",
    "        # 输出X的形状:(batch_size，查询或者“键－值”对的个数，num_heads，\n",
    "        # num_hiddens/num_heads)\n",
    "        X = X.reshape(X.shape[0], X.shape[1], num_heads, -1)\n",
    "\n",
    "        # 输出X的形状:(batch_size，num_heads，查询或者“键－值”对的个数,\n",
    "        # num_hiddens/num_heads)\n",
    "        X = X.permute(0, 2, 1, 3)\n",
    "\n",
    "        # 最终输出的形状:(batch_size*num_heads,查询或者“键－值”对的个数,\n",
    "        # num_hiddens/num_heads)\n",
    "        return X.reshape(-1, X.shape[2], X.shape[3])\n",
    "\n",
    "    #@save\n",
    "    def transpose_output(self, X, num_heads):\n",
    "        \"\"\"逆转transpose_qkv函数的操作\"\"\"\n",
    "        X = X.reshape(-1, num_heads, X.shape[1], X.shape[2])\n",
    "        X = X.permute(0, 2, 1, 3)\n",
    "        return X.reshape(X.shape[0], X.shape[1], -1)\n"
   ]
  },
  {
   "cell_type": "code",
   "execution_count": 4,
   "metadata": {},
   "outputs": [
    {
     "data": {
      "text/plain": [
       "True"
      ]
     },
     "execution_count": 4,
     "metadata": {},
     "output_type": "execute_result"
    }
   ],
   "source": [
    "num_hiddens, num_heads = 100, 5\n",
    "attention = MultiHeadAttention(\n",
    "    num_hiddens,\n",
    "    num_hiddens, \n",
    "    num_hiddens,\n",
    "    num_hiddens, \n",
    "    num_heads, \n",
    "    0.5\n",
    ")\n",
    "batch_size, num_queries, num_kvpairs = 2, 4, 6\n",
    "valid_lens = torch.tensor([3, 2])\n",
    "X = torch.ones((batch_size, num_queries, num_hiddens))\n",
    "Y = torch.ones((batch_size, num_kvpairs, num_hiddens))\n",
    "attention(X, Y, Y, valid_lens).shape == (batch_size, num_queries, num_hiddens)"
   ]
  }
 ],
 "metadata": {
  "kernelspec": {
   "display_name": "d2l",
   "language": "python",
   "name": "python3"
  },
  "language_info": {
   "codemirror_mode": {
    "name": "ipython",
    "version": 3
   },
   "file_extension": ".py",
   "mimetype": "text/x-python",
   "name": "python",
   "nbconvert_exporter": "python",
   "pygments_lexer": "ipython3",
   "version": "3.9.18"
  }
 },
 "nbformat": 4,
 "nbformat_minor": 2
}
