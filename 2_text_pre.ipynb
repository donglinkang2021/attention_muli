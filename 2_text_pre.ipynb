{
 "cells": [
  {
   "cell_type": "markdown",
   "metadata": {},
   "source": [
    "# Text Preprocessing"
   ]
  },
  {
   "cell_type": "code",
   "execution_count": 1,
   "metadata": {},
   "outputs": [],
   "source": [
    "import collections\n",
    "import re\n",
    "from d2l import torch as d2l"
   ]
  },
  {
   "cell_type": "markdown",
   "metadata": {},
   "source": [
    "## Time Machine"
   ]
  },
  {
   "cell_type": "code",
   "execution_count": 2,
   "metadata": {},
   "outputs": [
    {
     "name": "stdout",
     "output_type": "stream",
     "text": [
      "# 文本总行数: 3221\n",
      "the time machine by h g wells\n",
      "twinkled and his usually pale face was flushed and animated the\n"
     ]
    }
   ],
   "source": [
    "#@save\n",
    "# 将时间机器数据集的 URL 和 SHA-1 校验码存储到 DATA_HUB 字典中\n",
    "d2l.DATA_HUB['time_machine'] = (\n",
    "    d2l.DATA_URL + 'timemachine.txt',\n",
    "    '090b5e7e70c295757f55df93cb0a180b9691891a'\n",
    ")\n",
    "\n",
    "# 定义函数 read_time_machine，用于将时间机器数据集加载到文本行的列表中\n",
    "def read_time_machine():\n",
    "    # 打开时间机器数据集文件，并将每一行的文本存储到列表 lines 中\n",
    "    with open(d2l.download('time_machine'), 'r') as f:\n",
    "        lines = f.readlines()\n",
    "    # 对于每一行的文本，将其中的非字母字符替换为空格，并将其转换为小写字母\n",
    "    return [re.sub('[^A-Za-z]+', ' ', line).strip().lower() for line in lines]\n",
    "\n",
    "# 调用 read_time_machine 函数，将时间机器数据集加载到 lines 列表中\n",
    "lines = read_time_machine()\n",
    "# 打印文本总行数和第一行文本\n",
    "print(f'# 文本总行数: {len(lines)}')\n",
    "print(lines[0])\n",
    "# 打印第十行文本\n",
    "print(lines[10])"
   ]
  },
  {
   "cell_type": "markdown",
   "metadata": {},
   "source": [
    "## Tokenization"
   ]
  },
  {
   "cell_type": "code",
   "execution_count": 3,
   "metadata": {},
   "outputs": [
    {
     "name": "stdout",
     "output_type": "stream",
     "text": [
      "['the', 'time', 'machine', 'by', 'h', 'g', 'wells']\n",
      "[]\n",
      "[]\n",
      "[]\n",
      "[]\n",
      "['i']\n",
      "[]\n",
      "[]\n",
      "['the', 'time', 'traveller', 'for', 'so', 'it', 'will', 'be', 'convenient', 'to', 'speak', 'of', 'him']\n",
      "['was', 'expounding', 'a', 'recondite', 'matter', 'to', 'us', 'his', 'grey', 'eyes', 'shone', 'and']\n",
      "['twinkled', 'and', 'his', 'usually', 'pale', 'face', 'was', 'flushed', 'and', 'animated', 'the']\n"
     ]
    }
   ],
   "source": [
    "def tokenize(lines, token='word'):  #@save\n",
    "    \"\"\"将文本行拆分为单词或字符词元\"\"\"\n",
    "    if token == 'word':\n",
    "        return [line.split() for line in lines]\n",
    "    elif token == 'char':\n",
    "        return [list(line) for line in lines]\n",
    "    else:\n",
    "        print('错误：未知词元类型：' + token)\n",
    "\n",
    "tokens = tokenize(lines, 'word')\n",
    "for i in range(11):\n",
    "    print(tokens[i])"
   ]
  },
  {
   "cell_type": "markdown",
   "metadata": {},
   "source": [
    "## Vocabulary"
   ]
  },
  {
   "cell_type": "code",
   "execution_count": 4,
   "metadata": {},
   "outputs": [],
   "source": [
    "class Vocab:\n",
    "    \"\"\"文本词表\"\"\"\n",
    "    def __init__(self, tokens=None, min_freq=0, reserved_tokens=None):\n",
    "        # 如果 tokens 为 None，则初始化为空列表\n",
    "        if tokens is None:\n",
    "            tokens = []\n",
    "        # 如果 reserved_tokens 为 None，则初始化为空列表\n",
    "        if reserved_tokens is None:\n",
    "            reserved_tokens = []\n",
    "        # 统计 tokens 中每个词元的出现频率\n",
    "        counter = count_corpus(tokens)\n",
    "        # 按照词元出现频率从高到低排序\n",
    "        self._token_freqs = sorted(\n",
    "            counter.items(), \n",
    "            key=lambda x: x[1],\n",
    "            reverse=True\n",
    "        )\n",
    "        # 初始化词元索引列表，将未知词元的索引设为 0\n",
    "        self.idx_to_token = ['<unk>'] + reserved_tokens\n",
    "        # 初始化词元到索引的映射字典\n",
    "        self.token_to_idx = {\n",
    "            token: idx for idx, token in enumerate(self.idx_to_token)\n",
    "        }\n",
    "        # 将出现频率大于等于 min_freq 的词元加入词表\n",
    "        for token, freq in self._token_freqs:\n",
    "            if freq < min_freq:\n",
    "                break\n",
    "            if token not in self.token_to_idx:\n",
    "                self.idx_to_token.append(token)\n",
    "                self.token_to_idx[token] = len(self.idx_to_token) - 1\n",
    "\n",
    "    def __len__(self):\n",
    "        return len(self.idx_to_token)\n",
    "\n",
    "    def __getitem__(self, tokens):\n",
    "        # 如果 tokens 不是列表或元组，则返回对应词元的索引，\n",
    "        # 如果不存在则返回未知词元的索引\n",
    "        if not isinstance(tokens, (list, tuple)):\n",
    "            return self.token_to_idx.get(tokens, self.unk)\n",
    "        # 如果 tokens 是列表或元组，则返回对应词元的索引列表\n",
    "        return [self.__getitem__(token) for token in tokens]\n",
    "\n",
    "    def to_tokens(self, indices):\n",
    "        # 如果 indices 不是列表或元组，则返回对应索引的词元，\n",
    "        # 如果不存在则返回未知词元\n",
    "        if not isinstance(indices, (list, tuple)):\n",
    "            return self.idx_to_token[indices]\n",
    "        # 如果 indices 是列表或元组，则返回对应索引的词元列表\n",
    "        return [self.idx_to_token[index] for index in indices]\n",
    "\n",
    "    @property\n",
    "    def unk(self):  # 未知词元的索引为0\n",
    "        return 0\n",
    "\n",
    "    @property\n",
    "    def token_freqs(self):\n",
    "        return self._token_freqs\n",
    "\n",
    "def count_corpus(tokens):\n",
    "    \"\"\"统计词元的频率\"\"\"\n",
    "    # 如果 tokens 是二维列表，则将其展平为一维列表\n",
    "    if len(tokens) == 0 or isinstance(tokens[0], list):\n",
    "        tokens = [token for line in tokens for token in line]\n",
    "    # 统计词元的出现频率\n",
    "    return collections.Counter(tokens)"
   ]
  },
  {
   "cell_type": "code",
   "execution_count": 5,
   "metadata": {},
   "outputs": [
    {
     "name": "stdout",
     "output_type": "stream",
     "text": [
      "[('<unk>', 0), ('the', 1), ('i', 2), ('and', 3), ('of', 4), ('a', 5), ('to', 6), ('was', 7), ('in', 8), ('that', 9)]\n"
     ]
    }
   ],
   "source": [
    "vocab = Vocab(tokens)\n",
    "print(list(vocab.token_to_idx.items())[:10])"
   ]
  },
  {
   "cell_type": "code",
   "execution_count": 6,
   "metadata": {},
   "outputs": [
    {
     "name": "stdout",
     "output_type": "stream",
     "text": [
      "文本: ['the', 'time', 'machine', 'by', 'h', 'g', 'wells']\n",
      "索引: [1, 19, 50, 40, 2183, 2184, 400]\n",
      "文本: ['twinkled', 'and', 'his', 'usually', 'pale', 'face', 'was', 'flushed', 'and', 'animated', 'the']\n",
      "索引: [2186, 3, 25, 1044, 362, 113, 7, 1421, 3, 1045, 1]\n"
     ]
    }
   ],
   "source": [
    "for i in [0, 10]:\n",
    "    print('文本:', tokens[i])\n",
    "    print('索引:', vocab[tokens[i]])"
   ]
  },
  {
   "cell_type": "markdown",
   "metadata": {},
   "source": [
    "## 汇总"
   ]
  },
  {
   "cell_type": "code",
   "execution_count": 7,
   "metadata": {},
   "outputs": [
    {
     "name": "stdout",
     "output_type": "stream",
     "text": [
      "170580 28\n"
     ]
    }
   ],
   "source": [
    "# 定义函数 load_corpus_time_machine，\n",
    "# 用于加载时光机器数据集的词元索引列表和词表\n",
    "def load_corpus_time_machine(max_tokens=-1):\n",
    "    # 调用 read_time_machine 函数，将时间机器数据集加载到 lines 列表中\n",
    "    lines = read_time_machine()\n",
    "    # 对于每一行的文本，将其中的字符转换为词元，并将所有词元存储到列表 tokens 中\n",
    "    tokens = tokenize(lines, 'char')\n",
    "    # 初始化词表 vocab，将 tokens 中的词元加入词表\n",
    "    vocab = Vocab(tokens)\n",
    "    # 将 tokens 中的词元转换为对应的索引，并将所有索引存储到列表 corpus 中\n",
    "    corpus = [vocab[token] for line in tokens for token in line]\n",
    "    # 如果 max_tokens 大于 0，则只保留前 max_tokens 个词元\n",
    "    if max_tokens > 0:\n",
    "        corpus = corpus[:max_tokens]\n",
    "    # 返回词元索引列表 corpus 和词表 vocab\n",
    "    return corpus, vocab\n",
    "\n",
    "# 调用 load_corpus_time_machine 函数，将时光机器数据集加载到 corpus 列表中，并将词表加载到 vocab 中\n",
    "corpus, vocab = load_corpus_time_machine()\n",
    "# 打印词元数量和词表大小\n",
    "print(len(corpus), len(vocab))"
   ]
  }
 ],
 "metadata": {
  "kernelspec": {
   "display_name": "d2l",
   "language": "python",
   "name": "python3"
  },
  "language_info": {
   "codemirror_mode": {
    "name": "ipython",
    "version": 3
   },
   "file_extension": ".py",
   "mimetype": "text/x-python",
   "name": "python",
   "nbconvert_exporter": "python",
   "pygments_lexer": "ipython3",
   "version": "3.9.18"
  }
 },
 "nbformat": 4,
 "nbformat_minor": 2
}
