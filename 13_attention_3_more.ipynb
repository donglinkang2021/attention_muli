{
 "cells": [
  {
   "cell_type": "markdown",
   "metadata": {},
   "source": [
    "# Attention More\n",
    "\n",
    "Remind that in our previous notebook `13_attention_2_concise.ipynb`, we have defined the Nadaraya-Watson kernel regression as follows:\n",
    "\n",
    "$$\n",
    "f(\\mathbf{q}) = \\mathbf{v}^\\top \\mathrm{softmax}\\left(-\\frac{1}{2}(\\mathbf{q}^\\top - \\mathbf{k})^2\\right),\n",
    "$$\n",
    "\n",
    "- where $\\mathbf{q} \\in \\mathbb{R}^{m \\times 1}$ \n",
    " are the queries, $\\mathbf{k} \\in \\mathbb{R}^{n \\times 1}$ are keys, $\\mathbf{v} \\in \\mathbb{R}^{n \\times 1}$ are values.\n",
    "- Actually, the  $\\mathbf{k} \\in \\mathbb{R}^{n \\times 1}$ just means that we have $n$ keys, and each key is a $1$-dimensional vector(for the function we fit just unary function).\n",
    "\n",
    "> 算了不打算用英文继续写了，虽然看起来很好看；\n",
    "\n",
    "注意到假如说我们从`key`到`value`的映射如果不希望是一个一对一的关系（好比我们之前拟合的函数就是一对一，`x`和`y`的维度都是1），而是多对多的关系（比如神经网络有`d`个输入然后有`v`个输出），那么我们可以这样**扩展**：\n",
    "- $\\mathrm{query} \\in \\mathbb{R}^{d}$\n",
    "- $\\mathrm{key} \\in \\mathbb{R}^{d}$\n",
    "- $\\mathrm{value} \\in \\mathbb{R}^{v}$\n",
    "- $f(\\mathrm{query})$ is a $v$-dimensional vector.\n",
    "\n",
    "注意到这里的$\\mathrm{query}$和$\\mathrm{key}$的维度是一样的，当我们有$n$个$(key, value)$和$1$个$\\mathrm{query}$的时候，我们可以这样定义：\n",
    "- $\\mathrm{query} \\in \\mathbb{R}^{d}$\n",
    "- $\\mathrm{keys} \\in \\mathbb{R}^{n \\times d}$\n",
    "- $\\mathrm{values} \\in \\mathbb{R}^{n \\times v}$\n",
    "- $f(\\mathrm{query})$ is a $v$-dimensional vector.\n",
    "\n",
    "我们知道这种情况下我们在注意力回归中每输入一个$d$维$\\mathrm{query}$，我们就会得到一个$v$维的新的$\\mathrm{value}$，那么我们，很显然地会想到假如有`m`个$d$维的$\\mathrm{query}$，我们就会得到`m`个$v$维的新的$\\mathrm{value}$，那么我们就可以这样定义：\n",
    "- $\\mathrm{queries} \\in \\mathbb{R}^{m \\times d}$\n",
    "- $\\mathrm{keys} \\in \\mathbb{R}^{n \\times d}$\n",
    "- $\\mathrm{values} \\in \\mathbb{R}^{n \\times v}$\n",
    "- $f(\\mathrm{queries})$ is a $m \\times v$ matrix."
   ]
  },
  {
   "cell_type": "code",
   "execution_count": 1,
   "metadata": {},
   "outputs": [
    {
     "data": {
      "text/plain": [
       "tensor([[ 0,  1,  2,  3,  4],\n",
       "        [ 5,  6,  7,  8,  9],\n",
       "        [10, 11, 12, 13, 14],\n",
       "        [15, 16, 17, 18, 19],\n",
       "        [20, 21, 22, 23, 24]])"
      ]
     },
     "execution_count": 1,
     "metadata": {},
     "output_type": "execute_result"
    }
   ],
   "source": [
    "import torch\n",
    "\n",
    "m, n = 5, 10\n",
    "d, v = 5, 2\n",
    "queries = torch.arange(m * d).reshape(m, d)\n",
    "queries"
   ]
  },
  {
   "cell_type": "code",
   "execution_count": 2,
   "metadata": {},
   "outputs": [
    {
     "data": {
      "text/plain": [
       "tensor([[ 0,  1,  2,  3,  4],\n",
       "        [ 5,  6,  7,  8,  9],\n",
       "        [10, 11, 12, 13, 14],\n",
       "        [15, 16, 17, 18, 19],\n",
       "        [20, 21, 22, 23, 24],\n",
       "        [25, 26, 27, 28, 29],\n",
       "        [30, 31, 32, 33, 34],\n",
       "        [35, 36, 37, 38, 39],\n",
       "        [40, 41, 42, 43, 44],\n",
       "        [45, 46, 47, 48, 49]])"
      ]
     },
     "execution_count": 2,
     "metadata": {},
     "output_type": "execute_result"
    }
   ],
   "source": [
    "keys = torch.arange(n * d).reshape(n, d)\n",
    "keys"
   ]
  },
  {
   "cell_type": "code",
   "execution_count": 3,
   "metadata": {},
   "outputs": [
    {
     "data": {
      "text/plain": [
       "tensor([[ 0,  1],\n",
       "        [ 2,  3],\n",
       "        [ 4,  5],\n",
       "        [ 6,  7],\n",
       "        [ 8,  9],\n",
       "        [10, 11],\n",
       "        [12, 13],\n",
       "        [14, 15],\n",
       "        [16, 17],\n",
       "        [18, 19]])"
      ]
     },
     "execution_count": 3,
     "metadata": {},
     "output_type": "execute_result"
    }
   ],
   "source": [
    "values = torch.arange(n * v).reshape(n, v)\n",
    "values"
   ]
  },
  {
   "cell_type": "markdown",
   "metadata": {},
   "source": [
    "## Gaussian Kernel Attention\n",
    "\n",
    "这里我们依然采用**高斯核**的方法来求得注意力回归的结果，我们和前面一样：\n",
    "\n",
    "- 先求得$\\mathrm{queries}$和$\\mathrm{keys}$的距离矩阵$\\mathbf{D} \\in \\mathbb{R}^{m \\times n}$，其中\n",
    "  $$\n",
    "  \\mathbf{D}_{ij} = \\|\\mathrm{queries}_i - \\mathrm{keys}_j\\|^2\n",
    "  $$\n",
    "- 然后我们对$\\mathbf{D}$的每一行做softmax，得到$\\mathbf{A} \\in \\mathbb{R}^{m \\times n}$，其中\n",
    "  $$\n",
    "  \\mathbf{A}_{ij} = \\frac{\\exp(-\\mathbf{D}_{ij})}{\\sum_{k=1}^n \\exp(-\\mathbf{D}_{ik})}\n",
    "  $$\n",
    "  （注意我们这里不是乘以$-\\frac{1}{2}$了而是乘$-1$，从结果而言会看到$-1$拟合的更好）\n",
    "- 最后我们得到$\\mathrm{values}$的加权和，其中\n",
    "  $$\n",
    "  f(\\mathrm{queries}) = \\mathbf{A} \\mathrm{values}\n",
    "  $$"
   ]
  },
  {
   "cell_type": "code",
   "execution_count": 4,
   "metadata": {},
   "outputs": [
    {
     "data": {
      "text/plain": [
       "torch.Size([5, 10, 5])"
      ]
     },
     "execution_count": 4,
     "metadata": {},
     "output_type": "execute_result"
    }
   ],
   "source": [
    "dists = queries.reshape(m, 1, d) - keys.reshape(1, n, d)\n",
    "dists.shape # (m, n, d)"
   ]
  },
  {
   "cell_type": "code",
   "execution_count": 5,
   "metadata": {},
   "outputs": [
    {
     "data": {
      "text/plain": [
       "torch.Size([5, 10])"
      ]
     },
     "execution_count": 5,
     "metadata": {},
     "output_type": "execute_result"
    }
   ],
   "source": [
    "dists = dists.square().sum(axis=2)\n",
    "dists.shape # (m, n)"
   ]
  },
  {
   "cell_type": "code",
   "execution_count": 6,
   "metadata": {},
   "outputs": [],
   "source": [
    "import torch.nn.functional as F\n",
    "\n",
    "# dists should times -1\n",
    "\n",
    "attention_weights = F.softmax(\n",
    "    -1 * dists.to(torch.float32), \n",
    "    dim=1\n",
    ")"
   ]
  },
  {
   "cell_type": "code",
   "execution_count": 7,
   "metadata": {},
   "outputs": [],
   "source": [
    "new_values = torch.matmul(\n",
    "    attention_weights, \n",
    "    values.to(torch.float32)\n",
    ")"
   ]
  },
  {
   "cell_type": "code",
   "execution_count": 8,
   "metadata": {},
   "outputs": [
    {
     "data": {
      "text/plain": [
       "tensor([[0., 1.],\n",
       "        [2., 3.],\n",
       "        [4., 5.],\n",
       "        [6., 7.],\n",
       "        [8., 9.]])"
      ]
     },
     "execution_count": 8,
     "metadata": {},
     "output_type": "execute_result"
    }
   ],
   "source": [
    "new_values"
   ]
  },
  {
   "cell_type": "code",
   "execution_count": 9,
   "metadata": {},
   "outputs": [],
   "source": [
    "# 汇总上面的操作，我们可以得出一个多元注意力回归的例子\n",
    "def attention_Gaussian(queries, keys):\n",
    "    \"\"\"\n",
    "    多元注意力回归\n",
    "\n",
    "    Parameters\n",
    "    ----------\n",
    "    @param queries: torch.Tensor\n",
    "        queries, shape (m, d)\n",
    "    @param keys: torch.Tensor\n",
    "        keys, shape (n, d)\n",
    "    @returns: torch.Tensor\n",
    "        attention_weights, shape (m, n)\n",
    "    \"\"\"\n",
    "    d = queries.shape[-1]\n",
    "    m = queries.shape[0]\n",
    "    n = keys.shape[0]\n",
    "\n",
    "    dists = queries.reshape(m, 1, d) - keys.reshape(1, n, d)\n",
    "    dists = dists.square().sum(axis=2)\n",
    "\n",
    "    return F.softmax(\n",
    "        -1 * dists.to(torch.float32), \n",
    "        dim=1\n",
    "    )"
   ]
  },
  {
   "cell_type": "code",
   "execution_count": 10,
   "metadata": {},
   "outputs": [],
   "source": [
    "import matplotlib.pyplot as plt\n",
    "\n",
    "def show_attention(attention):\n",
    "    \"\"\"\n",
    "    画出注意力权重图\n",
    "\n",
    "    Parameters\n",
    "    ----------\n",
    "    @param attention: torch.Tensor\n",
    "        attention weights, shape (m, n)\n",
    "    \"\"\"\n",
    "\n",
    "    fig = plt.figure(figsize=(5, 5))\n",
    "\n",
    "    pcm = plt.imshow(\n",
    "        attention.detach().numpy(), \n",
    "        cmap='Reds'\n",
    "    )\n",
    "\n",
    "    plt.xlabel('Key points')\n",
    "    plt.ylabel('Query points')\n",
    "    plt.title('Attention weights')\n",
    "    fig.colorbar(pcm, shrink=0.7)\n",
    "    plt.show()"
   ]
  },
  {
   "cell_type": "code",
   "execution_count": 11,
   "metadata": {},
   "outputs": [
    {
     "data": {
      "image/png": "[encoded data removed]",
      "text/plain": [
       "<Figure size 500x500 with 2 Axes>"
      ]
     },
     "metadata": {},
     "output_type": "display_data"
    }
   ],
   "source": [
    "show_attention(attention_Gaussian(queries, keys))"
   ]
  },
  {
   "cell_type": "markdown",
   "metadata": {},
   "source": [
    "## Dot Product Attention\n",
    "\n",
    "$$\n",
    "f(\\mathrm{\\mathbf Q}) = \\mathrm{softmax}(-\\mathbf{D}) \\mathrm{\\mathbf V}\n",
    "$$\n",
    "\n",
    "在上面式子中，我们发现在求`softmax`之前需要对距离乘与一个`-1`，这是因为我们是根据**相似度**来从之前的数据预测之后的数据的，所以距离越大，那么我们就会认为与之前的数据**相似度**越低，经过`softmax`之后得到的概率也就越低，所以这里要乘`-1`，而计算**相似度**不止求距离这一种方法；\n",
    "\n",
    "我们知道，假如我们的$\\mathrm{query}$和$\\mathrm{key}$都是单位向量，那么我们可以用**点积**来表示两个向量的**相似度**（前面是通过**求距离**的方法，实际上**点积**减少了计算量，而且在`Transoformer`原论文中就是用的这一种方法），那么我们就可以这样定义：\n",
    "\n",
    "$$\n",
    "f(\\mathrm{\\mathbf Q}) = \\mathrm{softmax}\\left(\\frac{\\mathbf Q \\mathbf K^\\top }{\\sqrt{d}}\\right) \\mathbf V \n",
    "$$\n",
    "\n",
    "> 其中$\\mathbf Q$就是之前的$\\mathrm{queries}$，$\\mathbf K$就是之前的$\\mathrm{keys}$，$\\mathbf V$就是之前的$\\mathrm{values}$，$d$就是$\\mathrm{queries}$和$\\mathrm{keys}$的第二个维度；\n",
    "\n",
    "- $\\mathbf Q \\in \\mathbb{R}^{m \\times d}$\n",
    "- $\\mathbf K \\in \\mathbb{R}^{n \\times d}$\n",
    "- $\\mathbf V \\in \\mathbb{R}^{n \\times v}$\n",
    "- $f(\\mathrm{\\mathbf Q}) \\in \\mathbb{R}^{m \\times v}$\n",
    "\n",
    "### Why **Dot Product** Attention\n",
    "\n",
    "一开始需要先理解下面这句话：\n",
    "\n",
    "> 假如我们的$\\mathrm{query}$和$\\mathrm{key}$都是单位向量，那么我们可以用**点积**来表示两个向量的**相似度**\n",
    "\n",
    "回想起我们之前学过的余弦相似度：\n",
    "\n",
    "$$\n",
    "\\mathrm{similarity}(\\mathbf x, \\mathbf y) = \\frac{\\mathbf x^\\top \\mathbf y}{\\|\\mathbf x\\| \\|\\mathbf y\\|}\n",
    "$$\n",
    "\n",
    "- 首先我们知道，假如我们的$\\mathbf x$和$\\mathbf y$都是单位向量，那么我们可以用**点积**来表示两个向量的**相似度**，因为此时$\\|\\mathbf x\\| = \\|\\mathbf y\\| = 1$；\n",
    "- 其次，我们发现了余弦相似度是不对向量的长度（范数）敏感的，因为我们求的只是$\\cos(\\theta)$，只与两个向量之间的夹角大小有关；\n",
    " \n",
    "在我们的上面的$f(\\mathrm{\\mathbf Q})$中，之所以在`softmax`里面的点积我们不除以向量的模长，则是因为在softmax的作用，所有的值都会被压缩到0到1之间，同样也起到了不对向量的长度（范数）敏感的作用；而除以$\\sqrt{d}$在原论文中则是说为了保证数值稳定性；"
   ]
  },
  {
   "cell_type": "code",
   "execution_count": 13,
   "metadata": {},
   "outputs": [
    {
     "name": "stdout",
     "output_type": "stream",
     "text": [
      "tensor([[1.0000, 0.9147, 0.8785, 0.8615, 0.8519, 0.8456, 0.8412, 0.8380, 0.8355,\n",
      "         0.8335],\n",
      "        [0.9147, 1.0000, 0.9966, 0.9932, 0.9909, 0.9892, 0.9880, 0.9870, 0.9863,\n",
      "         0.9857],\n",
      "        [0.8785, 0.9966, 1.0000, 0.9994, 0.9986, 0.9979, 0.9973, 0.9969, 0.9965,\n",
      "         0.9962],\n",
      "        [0.8615, 0.9932, 0.9994, 1.0000, 0.9998, 0.9995, 0.9992, 0.9990, 0.9988,\n",
      "         0.9986],\n",
      "        [0.8519, 0.9909, 0.9986, 0.9998, 1.0000, 0.9999, 0.9998, 0.9997, 0.9995,\n",
      "         0.9994]])\n"
     ]
    },
    {
     "data": {
      "image/png": "[encoded data removed]",
      "text/plain": [
       "<Figure size 500x500 with 2 Axes>"
      ]
     },
     "metadata": {},
     "output_type": "display_data"
    }
   ],
   "source": [
    "consim = torch.matmul(queries, keys.T) / torch.sqrt(\n",
    "    queries.square().sum(axis=1, keepdims=True) *\n",
    "    keys.square().sum(axis=1, keepdims=True).T\n",
    ")\n",
    "print(consim)\n",
    "show_attention(consim)"
   ]
  },
  {
   "cell_type": "code",
   "execution_count": 14,
   "metadata": {},
   "outputs": [
    {
     "name": "stdout",
     "output_type": "stream",
     "text": [
      "tensor([[0.1137, 0.1044, 0.1007, 0.0990, 0.0981, 0.0975, 0.0970, 0.0967, 0.0965,\n",
      "         0.0963],\n",
      "        [0.0934, 0.1017, 0.1013, 0.1010, 0.1007, 0.1006, 0.1005, 0.1004, 0.1003,\n",
      "         0.1002],\n",
      "        [0.0898, 0.1010, 0.1014, 0.1013, 0.1012, 0.1012, 0.1011, 0.1011, 0.1010,\n",
      "         0.1010],\n",
      "        [0.0883, 0.1008, 0.1014, 0.1014, 0.1014, 0.1014, 0.1014, 0.1013, 0.1013,\n",
      "         0.1013],\n",
      "        [0.0875, 0.1006, 0.1014, 0.1015, 0.1015, 0.1015, 0.1015, 0.1015, 0.1015,\n",
      "         0.1015]])\n"
     ]
    },
    {
     "data": {
      "image/png": "[encoded data removed]",
      "text/plain": [
       "<Figure size 500x500 with 2 Axes>"
      ]
     },
     "metadata": {},
     "output_type": "display_data"
    }
   ],
   "source": [
    "attention_weights = F.softmax(\n",
    "    torch.matmul(\n",
    "        queries, \n",
    "        keys.T\n",
    "    ).div(torch.sqrt(\n",
    "        queries.square().sum(axis=1, keepdims=True) *\n",
    "        keys.square().sum(axis=1, keepdims=True).T\n",
    "    )), \n",
    "    dim=1\n",
    ")\n",
    "print(attention_weights)\n",
    "show_attention(attention_weights)"
   ]
  },
  {
   "cell_type": "code",
   "execution_count": 15,
   "metadata": {},
   "outputs": [
    {
     "data": {
      "text/plain": [
       "tensor([[ 8.7607,  9.7607],\n",
       "        [ 9.0456, 10.0456],\n",
       "        [ 9.0986, 10.0986],\n",
       "        [ 9.1202, 10.1202],\n",
       "        [ 9.1319, 10.1319]])"
      ]
     },
     "execution_count": 15,
     "metadata": {},
     "output_type": "execute_result"
    }
   ],
   "source": [
    "new_values = torch.matmul(\n",
    "    attention_weights, \n",
    "    values.to(torch.float32)\n",
    ")\n",
    "new_values"
   ]
  },
  {
   "cell_type": "code",
   "execution_count": 16,
   "metadata": {},
   "outputs": [],
   "source": [
    "def attention_DotProduct(queries, keys):\n",
    "    \"\"\"\n",
    "    多元注意力回归\n",
    "\n",
    "    Parameters\n",
    "    ----------\n",
    "    @param queries: torch.Tensor\n",
    "        queries, shape (m, d)\n",
    "    @param keys: torch.Tensor\n",
    "        keys, shape (n, d)\n",
    "    @returns: torch.Tensor\n",
    "        attention_weights, shape (m, n)\n",
    "    \"\"\"\n",
    "    d = queries.shape[-1]\n",
    "\n",
    "    return F.softmax(\n",
    "        torch.matmul(\n",
    "            queries, \n",
    "            keys.T\n",
    "        ).div(\n",
    "            torch.sqrt(\n",
    "                torch.tensor(d)\n",
    "                .to(torch.float32)\n",
    "            )\n",
    "        ), \n",
    "        dim=1\n",
    "    )"
   ]
  },
  {
   "cell_type": "code",
   "execution_count": 17,
   "metadata": {},
   "outputs": [
    {
     "data": {
      "image/png": "[encoded data removed]",
      "text/plain": [
       "<Figure size 500x500 with 2 Axes>"
      ]
     },
     "metadata": {},
     "output_type": "display_data"
    }
   ],
   "source": [
    "show_attention(attention_DotProduct(queries, keys))"
   ]
  }
 ],
 "metadata": {
  "kernelspec": {
   "display_name": "d2l",
   "language": "python",
   "name": "python3"
  },
  "language_info": {
   "codemirror_mode": {
    "name": "ipython",
    "version": 3
   },
   "file_extension": ".py",
   "mimetype": "text/x-python",
   "name": "python",
   "nbconvert_exporter": "python",
   "pygments_lexer": "ipython3",
   "version": "3.9.18"
  }
 },
 "nbformat": 4,
 "nbformat_minor": 2
}
