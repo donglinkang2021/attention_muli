{
 "cells": [
  {
   "cell_type": "markdown",
   "metadata": {},
   "source": [
    "# 中英翻译任务\n",
    "\n",
    "从这里找到了一个数据集\n",
    "\n",
    "- https://www.heywhale.com/mw/dataset/60c41b7a19d601001898b34a\n",
    "\n",
    "打算用刚学的transformer来做一个翻译任务\n",
    "\n",
    "## 数据简单说明\n",
    "\n",
    "- 实验数据集为 [WMT18 新闻评论数据集 News Commentary v13](https://www.statmt.org/wmt18/translation-task.html)，\n",
    "  - 整个语料库分训练集（约 252,700 条）、\n",
    "  - 验证集和测试集（分别约 2,000 条）三部分，\n",
    "  - 每部分包含中英文平行语料两个文件，\n",
    "  - 全部语料已预分词处理；"
   ]
  },
  {
   "cell_type": "markdown",
   "metadata": {},
   "source": [
    "## 数据处理"
   ]
  },
  {
   "cell_type": "markdown",
   "metadata": {},
   "source": [
    "### Load data"
   ]
  },
  {
   "cell_type": "code",
   "execution_count": 1,
   "metadata": {},
   "outputs": [],
   "source": [
    "import os\n",
    "# 个人理解下面这两个可以互换\n",
    "\n",
    "def read_en_train(data_dir = \"./wnt_cn_en/data/train\"):\n",
    "    \"\"\"载入英文数据集\"\"\"\n",
    "    with open(os.path.join(data_dir, 'news-commentary-v13.zh-en.en'), 'r',\n",
    "             encoding='utf-8') as f:\n",
    "        return f.read()\n",
    "    \n",
    "def read_cn_train(data_dir = \"./wnt_cn_en/data/train\"):\n",
    "    \"\"\"载入中文数据集\"\"\"\n",
    "    with open(os.path.join(data_dir, 'news-commentary-v13.zh-en.zh'), 'r',\n",
    "             encoding='utf-8') as f:\n",
    "        return f.read()"
   ]
  },
  {
   "cell_type": "code",
   "execution_count": 2,
   "metadata": {},
   "outputs": [],
   "source": [
    "en_train = read_en_train()\n",
    "cn_train = read_cn_train()"
   ]
  },
  {
   "cell_type": "code",
   "execution_count": 3,
   "metadata": {},
   "outputs": [
    {
     "data": {
      "text/plain": [
       "'1929 or 1989?\\nPARIS – As the economic crisis deepens and widens, the world has been searching for hi'"
      ]
     },
     "execution_count": 3,
     "metadata": {},
     "output_type": "execute_result"
    }
   ],
   "source": [
    "en_train[:100]"
   ]
  },
  {
   "cell_type": "code",
   "execution_count": 4,
   "metadata": {},
   "outputs": [
    {
     "data": {
      "text/plain": [
       "'1929 年 还是 1989 年 ?\\n巴黎 - 随着 经济危机 不断 加深 和 蔓延 ， 整个 世界 一直 在 寻找 历史 上 的 类似 事件 希望 有助于 我们 了解 目前 正在 发生 的 情况 。'"
      ]
     },
     "execution_count": 4,
     "metadata": {},
     "output_type": "execute_result"
    }
   ],
   "source": [
    "cn_train[:100]"
   ]
  },
  {
   "cell_type": "markdown",
   "metadata": {},
   "source": [
    "### Preprocess\n",
    "\n",
    "因为已经做过分词处理，所以不需要再做分词处理了；而且基本符号前面都有空格分开，使我们的处理更加方便；"
   ]
  },
  {
   "cell_type": "code",
   "execution_count": 5,
   "metadata": {},
   "outputs": [
    {
     "data": {
      "text/plain": [
       "(252778, 252778)"
      ]
     },
     "execution_count": 5,
     "metadata": {},
     "output_type": "execute_result"
    }
   ],
   "source": [
    "len(en_train.split('\\n')), len(cn_train.split('\\n'))"
   ]
  },
  {
   "cell_type": "code",
   "execution_count": 9,
   "metadata": {},
   "outputs": [],
   "source": [
    "def preprocess(text):\n",
    "    \"\"\"\n",
    "    预处理数据集\n",
    "\n",
    "    Parameters\n",
    "    ----------\n",
    "    @param text: str\n",
    "        the text to be processed\n",
    "    @return: str\n",
    "        processed text\n",
    "    \"\"\"\n",
    "    def add_space(char, prev_char, next_char):\n",
    "        return char in set('(),.!?') and prev_char != ' ' and next_char != ' '\n",
    "\n",
    "    # 使用空格替换不间断空格\n",
    "    # 使用小写字母替换大写字母\n",
    "    text = text.replace('\\u202f', ' ').replace('\\xa0', ' ').lower()\n",
    "    # 在单词和标点符号之间插入空格\n",
    "    out = [' ' + char + ' ' if i > 0 and i < len(text) - 1 and add_space(char, text[i - 1], text[i + 1]) else char\n",
    "           for i, char in enumerate(text)]\n",
    "    return ''.join(out)"
   ]
  },
  {
   "cell_type": "code",
   "execution_count": 12,
   "metadata": {},
   "outputs": [],
   "source": [
    "en_train = preprocess(en_train)\n",
    "cn_train = preprocess(cn_train)"
   ]
  },
  {
   "cell_type": "markdown",
   "metadata": {},
   "source": [
    "### Tokenize"
   ]
  },
  {
   "cell_type": "code",
   "execution_count": 13,
   "metadata": {},
   "outputs": [],
   "source": [
    "def tokenize(text, num_examples=None):\n",
    "    \"\"\"\n",
    "    词元化\n",
    "\n",
    "    Parameters\n",
    "    ----------\n",
    "    @param text: str\n",
    "        The text to tokenize\n",
    "    @param num_examples: int\n",
    "        The number of examples in the dataset\n",
    "    \"\"\"\n",
    "    tokens = []\n",
    "    for i, line in enumerate(text.split('\\n')):\n",
    "        if num_examples and i > num_examples:\n",
    "            break\n",
    "        if line:\n",
    "            tokens.append(line.split(' '))\n",
    "    return tokens"
   ]
  },
  {
   "cell_type": "code",
   "execution_count": 14,
   "metadata": {},
   "outputs": [
    {
     "data": {
      "text/plain": [
       "([['1929', 'or', '1989', '?'],\n",
       "  ['paris',\n",
       "   '–',\n",
       "   'as',\n",
       "   'the',\n",
       "   'economic',\n",
       "   'crisis',\n",
       "   'deepens',\n",
       "   'and',\n",
       "   'widens',\n",
       "   ',',\n",
       "   'the',\n",
       "   'world',\n",
       "   'has',\n",
       "   'been',\n",
       "   'searching',\n",
       "   'for',\n",
       "   'historical',\n",
       "   'analogies',\n",
       "   'to',\n",
       "   'help',\n",
       "   'us',\n",
       "   'understand',\n",
       "   'what',\n",
       "   'has',\n",
       "   'been',\n",
       "   'happening',\n",
       "   '.'],\n",
       "  ['at',\n",
       "   'the',\n",
       "   'start',\n",
       "   'of',\n",
       "   'the',\n",
       "   'crisis',\n",
       "   ',',\n",
       "   'many',\n",
       "   'people',\n",
       "   'likened',\n",
       "   'it',\n",
       "   'to',\n",
       "   '1982',\n",
       "   'or',\n",
       "   '1973',\n",
       "   ',',\n",
       "   'which',\n",
       "   'was',\n",
       "   'reassuring',\n",
       "   ',',\n",
       "   'because',\n",
       "   'both',\n",
       "   'dates',\n",
       "   'refer',\n",
       "   'to',\n",
       "   'classical',\n",
       "   'cyclical',\n",
       "   'downturns',\n",
       "   '.']],\n",
       " [['1929', '年', '还是', '1989', '年', '?'],\n",
       "  ['巴黎',\n",
       "   '-',\n",
       "   '随着',\n",
       "   '经济危机',\n",
       "   '不断',\n",
       "   '加深',\n",
       "   '和',\n",
       "   '蔓延',\n",
       "   '，',\n",
       "   '整个',\n",
       "   '世界',\n",
       "   '一直',\n",
       "   '在',\n",
       "   '寻找',\n",
       "   '历史',\n",
       "   '上',\n",
       "   '的',\n",
       "   '类似',\n",
       "   '事件',\n",
       "   '希望',\n",
       "   '有助于',\n",
       "   '我们',\n",
       "   '了解',\n",
       "   '目前',\n",
       "   '正在',\n",
       "   '发生',\n",
       "   '的',\n",
       "   '情况',\n",
       "   '。'],\n",
       "  ['一',\n",
       "   '开始',\n",
       "   '，',\n",
       "   '很多',\n",
       "   '人',\n",
       "   '把',\n",
       "   '这次',\n",
       "   '危机',\n",
       "   '比作',\n",
       "   '1982',\n",
       "   '年',\n",
       "   '或',\n",
       "   '1973',\n",
       "   '年',\n",
       "   '所',\n",
       "   '发生',\n",
       "   '的',\n",
       "   '情况',\n",
       "   '，',\n",
       "   '这样',\n",
       "   '得',\n",
       "   '类比',\n",
       "   '是',\n",
       "   '令人',\n",
       "   '宽心',\n",
       "   '的',\n",
       "   '，',\n",
       "   '因为',\n",
       "   '这',\n",
       "   '两段',\n",
       "   '时期',\n",
       "   '意味着',\n",
       "   '典型',\n",
       "   '的',\n",
       "   '周期性',\n",
       "   '衰退',\n",
       "   '。']])"
      ]
     },
     "execution_count": 14,
     "metadata": {},
     "output_type": "execute_result"
    }
   ],
   "source": [
    "en_tokens = tokenize(en_train)\n",
    "cn_tokens = tokenize(cn_train)\n",
    "en_tokens[:3], cn_tokens[:3]"
   ]
  },
  {
   "cell_type": "code",
   "execution_count": 15,
   "metadata": {},
   "outputs": [
    {
     "data": {
      "image/png": "[encoded data removed]",
      "text/plain": [
       "<Figure size 1500x500 with 1 Axes>"
      ]
     },
     "metadata": {},
     "output_type": "display_data"
    }
   ],
   "source": [
    "import matplotlib.pyplot as plt\n",
    "\n",
    "def plot_length(en_tokens, cn_tokens):\n",
    "    \"\"\"绘制英文和中文句子长度分布图\"\"\"\n",
    "    en_len = [len(t) for t in en_tokens]\n",
    "    cn_len = [len(t) for t in cn_tokens]\n",
    "    plt.hist(en_len, bins=range(min(en_len), max(en_len)+1), label='English', alpha=0.5, rwidth=0.8)\n",
    "    plt.hist(cn_len, bins=range(min(cn_len), max(cn_len)+1), label='Chinese', alpha=0.5, rwidth=0.8)\n",
    "    plt.legend()\n",
    "    plt.title('Sentence Length Distribution Histogram of English and Chinese')\n",
    "    plt.xlabel('Sentence Length')\n",
    "    plt.ylabel('Number')\n",
    "    plt.show()\n",
    "\n",
    "plt.figure(figsize=(15, 5))\n",
    "plot_length(en_tokens, cn_tokens)"
   ]
  },
  {
   "cell_type": "markdown",
   "metadata": {},
   "source": [
    "### Vocabulary"
   ]
  },
  {
   "cell_type": "code",
   "execution_count": 16,
   "metadata": {},
   "outputs": [],
   "source": [
    "import collections\n",
    "\n",
    "class Vocab:\n",
    "    def __init__(self, tokens=None, min_freq=0, reserved_tokens=None):\n",
    "        \"\"\"\n",
    "        Vocabulary for text.\n",
    "        \n",
    "        Parameters\n",
    "        ----------\n",
    "        @param tokens: list of token lists\n",
    "        @param min_freq: int\n",
    "            The minimum frequency required for a token to be included in the vocabulary\n",
    "        @param reserved_tokens: list of str\n",
    "            The token list that will be added to the vocabulary\n",
    "        \"\"\"\n",
    "        if tokens is None:\n",
    "            tokens = []\n",
    "        if reserved_tokens is None:\n",
    "            reserved_tokens = []\n",
    "        # Sort according to frequencies\n",
    "        counter = count_corpus(tokens)\n",
    "        self._token_freqs = sorted(\n",
    "            counter.items(),\n",
    "            key=lambda x: x[1],\n",
    "            reverse=True\n",
    "        )\n",
    "        # The index for the unknown token is 0\n",
    "        self.idx_to_token = ['<unk>'] + reserved_tokens\n",
    "        self.token_to_idx = {token: idx\n",
    "                             for idx, token in enumerate(self.idx_to_token)}\n",
    "        for token, freq in self._token_freqs:\n",
    "            if freq < min_freq:\n",
    "                break\n",
    "            if token not in self.token_to_idx:\n",
    "                self.idx_to_token.append(token)\n",
    "                self.token_to_idx[token] = len(self.idx_to_token) - 1\n",
    "\n",
    "    def __len__(self):\n",
    "        return len(self.idx_to_token)\n",
    "\n",
    "    def __getitem__(self, tokens):\n",
    "        if not isinstance(tokens, (list, tuple)):\n",
    "            return self.token_to_idx.get(tokens, self.unk)\n",
    "        return [self.__getitem__(token) for token in tokens]\n",
    "\n",
    "    def to_tokens(self, indices):\n",
    "        if not isinstance(indices, (list, tuple)):\n",
    "            return self.idx_to_token[indices]\n",
    "        return [self.idx_to_token[index] for index in indices]\n",
    "\n",
    "    @property\n",
    "    def unk(self):  # Index for the unknown token\n",
    "        return 0\n",
    "\n",
    "    @property\n",
    "    def token_freqs(self): \n",
    "        return self._token_freqs\n",
    "\n",
    "def count_corpus(tokens):\n",
    "    \"\"\"\n",
    "    Count token frequencies.\n",
    "    \n",
    "    Parameters\n",
    "    ----------\n",
    "    @param tokens: list of token lists\n",
    "    @return: `collections.Counter` instance that maps tokens to frequencies\n",
    "    \"\"\"\n",
    "    # Here `tokens` is a 1D list or 2D list\n",
    "    if len(tokens) == 0 or isinstance(tokens[0], list):\n",
    "        # Flatten a list of token lists into a list of tokens\n",
    "        tokens = [token for line in tokens for token in line]\n",
    "    return collections.Counter(tokens)"
   ]
  },
  {
   "cell_type": "code",
   "execution_count": 17,
   "metadata": {},
   "outputs": [
    {
     "data": {
      "text/plain": [
       "(52392, 54692)"
      ]
     },
     "execution_count": 17,
     "metadata": {},
     "output_type": "execute_result"
    }
   ],
   "source": [
    "en_vocab = Vocab(en_tokens, min_freq=2, reserved_tokens=['<pad>', '<bos>', '<eos>'])\n",
    "cn_vocab = Vocab(cn_tokens, min_freq=2, reserved_tokens=['<pad>', '<bos>', '<eos>'])\n",
    "len(en_vocab), len(cn_vocab)"
   ]
  },
  {
   "cell_type": "code",
   "execution_count": 19,
   "metadata": {},
   "outputs": [
    {
     "name": "stdout",
     "output_type": "stream",
     "text": [
      "[('<unk>', 0), ('<pad>', 1), ('<bos>', 2), ('<eos>', 3), ('the', 4), (',', 5), ('.', 6), ('of', 7), ('to', 8), ('and', 9), ('in', 10), ('a', 11), ('that', 12), ('is', 13), ('for', 14)]\n",
      "[('<unk>', 0), ('<pad>', 1), ('<bos>', 2), ('<eos>', 3), ('的', 4), ('，', 5), ('。', 6), ('在', 7), ('和', 8), ('', 9), ('是', 10), ('了', 11), ('、', 12), ('也', 13), ('但', 14)]\n"
     ]
    }
   ],
   "source": [
    "# Print the first 10 tokens and their indices\n",
    "print(list(en_vocab.token_to_idx.items())[:15])\n",
    "print(list(cn_vocab.token_to_idx.items())[:15])"
   ]
  },
  {
   "cell_type": "markdown",
   "metadata": {},
   "source": [
    "### Take a grasp of the process"
   ]
  },
  {
   "cell_type": "code",
   "execution_count": 12,
   "metadata": {},
   "outputs": [
    {
     "name": "stdout",
     "output_type": "stream",
     "text": [
      "Chinese raw: 目前 的 趋势 是 ， 要么 是 过度 的 克制 （ 欧洲 ）， 要么 是 努力 的 扩展 （ 美国 ）。\n",
      "English raw: The tendency is either excessive restraint (Europe) or a diffusion of the effort (the United States).\n",
      "Chinese tokens: [['目前', '的', '趋势', '是', '，', '要么', '是', '过度', '的', '克制', '（', '欧洲', '），', '要么', '是', '努力', '的', '扩展', '（', '美国', '）。']]\n",
      "English tokens: [['The', 'tendency', 'is', 'either', 'excessive', 'restraint', '(Europe)', 'or', 'a', 'diffusion', 'of', 'the', 'effort', '(the', 'United', 'States).']]\n",
      "Cninese indices: [[204, 4, 714, 10, 5, 1126, 10, 697, 4, 4194, 20, 50, 279, 1126, 10, 436, 4, 3022, 20, 17, 237]]\n",
      "English indices: [[15, 3872, 11, 709, 1112, 7485, 50593, 33, 9, 8131, 5, 4, 584, 910, 92, 31937]]\n"
     ]
    }
   ],
   "source": [
    "cn_sample = cn_train.split('\\n')[4]\n",
    "en_sample = en_train.split('\\n')[4]\n",
    "print(f\"Chinese raw: {cn_sample}\")\n",
    "print(f\"English raw: {en_sample}\")\n",
    "cn_sample_tokens = tokenize(cn_sample)\n",
    "en_sample_tokens = tokenize(en_sample)\n",
    "print(f\"Chinese tokens: {cn_sample_tokens}\")\n",
    "print(f\"English tokens: {en_sample_tokens}\")\n",
    "print(f\"Cninese indices: {cn_vocab[cn_sample_tokens]}\")\n",
    "print(f\"English indices: {en_vocab[en_sample_tokens]}\")"
   ]
  },
  {
   "cell_type": "markdown",
   "metadata": {},
   "source": [
    "### Load dataset"
   ]
  },
  {
   "cell_type": "code",
   "execution_count": 13,
   "metadata": {},
   "outputs": [],
   "source": [
    "#@save\n",
    "def truncate_pad(line, num_steps, padding_token):\n",
    "    \"\"\"截断或填充文本序列\"\"\"\n",
    "    if len(line) > num_steps:\n",
    "        return line[:num_steps]  # 截断\n",
    "    return line + [padding_token] * (num_steps - len(line))  # 填充"
   ]
  },
  {
   "cell_type": "code",
   "execution_count": 14,
   "metadata": {},
   "outputs": [
    {
     "name": "stdout",
     "output_type": "stream",
     "text": [
      "num_steps=10, padding_token=0, line=[204, 4, 714, 10, 5, 1126, 10, 697, 4, 4194, 20, 50, 279, 1126, 10, 436, 4, 3022, 20, 17, 237]\n",
      "after truncate_pad: [204, 4, 714, 10, 5, 1126, 10, 697, 4, 4194]\n",
      "num_steps=30, padding_token=0, line=[204, 4, 714, 10, 5, 1126, 10, 697, 4, 4194, 20, 50, 279, 1126, 10, 436, 4, 3022, 20, 17, 237]\n",
      "after truncate_pad: [204, 4, 714, 10, 5, 1126, 10, 697, 4, 4194, 20, 50, 279, 1126, 10, 436, 4, 3022, 20, 17, 237, 1, 1, 1, 1, 1, 1, 1, 1, 1]\n"
     ]
    }
   ],
   "source": [
    "print(f\"num_steps=10, padding_token=0, line={cn_vocab[cn_sample_tokens[0]]}\")\n",
    "print(f\"after truncate_pad: {truncate_pad(cn_vocab[cn_sample_tokens[0]], 10, cn_vocab['<pad>'])}\")\n",
    "print(f\"num_steps=30, padding_token=0, line={cn_vocab[cn_sample_tokens[0]]}\")\n",
    "print(f\"after truncate_pad: {truncate_pad(cn_vocab[cn_sample_tokens[0]], 30, cn_vocab['<pad>'])}\")"
   ]
  },
  {
   "cell_type": "code",
   "execution_count": 15,
   "metadata": {},
   "outputs": [],
   "source": [
    "import torch\n",
    "from torch import nn\n",
    "\n",
    "def build_array(tokens, vocab, num_steps):\n",
    "    \"\"\"\n",
    "    将文本序列转换成向量\n",
    "    \n",
    "    Parameters\n",
    "    ----------\n",
    "    @param tokens: list of token lists\n",
    "        2D list \n",
    "    @param vocab: instance of Vocab\n",
    "    @param num_steps: int\n",
    "        The length of the sequence of tokens in a batch\n",
    "    @return: torch.Tensor\n",
    "        2D tensor with shape (batch size, num_steps)\n",
    "    \"\"\"\n",
    "    tokens = [vocab[token_line] for token_line in tokens]\n",
    "    tokens = [token_line + [vocab['<eos>']] for token_line in tokens]\n",
    "    array = torch.tensor([\n",
    "        truncate_pad(\n",
    "            line=token_line, \n",
    "            num_steps=num_steps, \n",
    "            padding_token=vocab['<pad>']\n",
    "        ) for token_line in tokens\n",
    "    ])\n",
    "    valid_len = (array != vocab['<pad>']).sum(1)\n",
    "    return array, valid_len"
   ]
  },
  {
   "cell_type": "code",
   "execution_count": 16,
   "metadata": {},
   "outputs": [],
   "source": [
    "def load_data_train(batch_size, num_steps, num_examples = 600):\n",
    "    \"\"\"\n",
    "    返回数据迭代器和词汇表\n",
    "\n",
    "    Parameters\n",
    "    ----------\n",
    "    @param batch_size: int\n",
    "    @param num_steps: int\n",
    "        The length of the sequence of tokens in a batch\n",
    "    @param num_examples: int\n",
    "        The number of examples in the dataset\n",
    "    @return: tuple of (data_iter, en_vocab, cn_vocab)\n",
    "        - data_iter: instance of torch.utils.data.DataLoader\n",
    "        - en_vocab: instance of Vocab for English\n",
    "        - cn_vocab: instance of Vocab for Chinese\n",
    "    \"\"\"\n",
    "    en_train = read_en_train()\n",
    "    cn_train = read_cn_train()\n",
    "    en_tokens = tokenize(en_train, num_examples)\n",
    "    cn_tokens = tokenize(cn_train, num_examples)\n",
    "    en_vocab = Vocab(en_tokens, min_freq=2, reserved_tokens=['<pad>', '<bos>', '<eos>'])\n",
    "    cn_vocab = Vocab(cn_tokens, min_freq=2, reserved_tokens=['<pad>', '<bos>', '<eos>'])\n",
    "    en_array, en_valid_len = build_array(en_tokens, en_vocab, num_steps)\n",
    "    cn_array, cn_valid_len = build_array(cn_tokens, cn_vocab, num_steps)\n",
    "    dataset = torch.utils.data.TensorDataset(en_array, en_valid_len, cn_array, cn_valid_len)\n",
    "    data_iter = torch.utils.data.DataLoader(dataset, batch_size, shuffle=True)\n",
    "    return data_iter, en_vocab, cn_vocab"
   ]
  },
  {
   "cell_type": "code",
   "execution_count": 17,
   "metadata": {},
   "outputs": [
    {
     "name": "stdout",
     "output_type": "stream",
     "text": [
      "X: tensor([[ 583,  242,  129,    0,   97,  907,    0,    3],\n",
      "        [   0, 1158,   21,    0,    9,  943,   16,  468]], dtype=torch.int32)\n",
      "valid lengths for X: tensor([8, 8])\n",
      "Y: tensor([[  51,   76,   14,  545,    0,    5,  216,   42],\n",
      "        [   0,   18,    0,  627, 1272,    6,    3,    1]], dtype=torch.int32)\n",
      "valid lengths for Y: tensor([8, 7])\n"
     ]
    }
   ],
   "source": [
    "train_iter, en_vocab, cn_vocab = load_data_train(batch_size=2, num_steps=8)\n",
    "for X, X_valid_len, Y, Y_valid_len in train_iter:\n",
    "    print('X:', X.type(torch.int32))\n",
    "    print('valid lengths for X:', X_valid_len)\n",
    "    print('Y:', Y.type(torch.int32))\n",
    "    print('valid lengths for Y:', Y_valid_len)\n",
    "    break"
   ]
  },
  {
   "cell_type": "code",
   "execution_count": 18,
   "metadata": {},
   "outputs": [
    {
     "data": {
      "text/plain": [
       "(['All', 'things', 'being', '<unk>', 'we', 'probably', '<unk>', '<eos>'],\n",
       " ['”', '如果', '将', '一切', '<unk>', '，', '那', '我们'])"
      ]
     },
     "execution_count": 18,
     "metadata": {},
     "output_type": "execute_result"
    }
   ],
   "source": [
    "en_vocab.to_tokens(X[0].numpy().tolist()), cn_vocab.to_tokens(Y[0].numpy().tolist())"
   ]
  },
  {
   "cell_type": "markdown",
   "metadata": {},
   "source": [
    "## 小结\n",
    "\n",
    "至此，我们已经完成了数据的读取，下一步就是利用模型来训练了；"
   ]
  }
 ],
 "metadata": {
  "kernelspec": {
   "display_name": "d2l",
   "language": "python",
   "name": "python3"
  },
  "language_info": {
   "codemirror_mode": {
    "name": "ipython",
    "version": 3
   },
   "file_extension": ".py",
   "mimetype": "text/x-python",
   "name": "python",
   "nbconvert_exporter": "python",
   "pygments_lexer": "ipython3",
   "version": "3.9.18"
  }
 },
 "nbformat": 4,
 "nbformat_minor": 2
}
